{
 "cells": [
  {
   "cell_type": "markdown",
   "id": "7b1c55db",
   "metadata": {},
   "source": [
    "# AULA GESTÃO DE RISCO\n",
    "\n",
    "#    1 - Tipos de retorno\n",
    "\n",
    "#    2 - Retorno de um portfólio\n",
    "\n",
    "#    3 - Correlação entre ativos\n",
    "\n",
    "#    4 - Volatilidade do portfólio\n",
    "\n",
    "#    5 - Índice Beta e R²\n",
    "\n",
    "#    6 - índice Sharpe\n",
    "\n",
    "#    7 - Máximo Drawdown\n",
    "\n"
   ]
  },
  {
   "cell_type": "markdown",
   "id": "5fc25ed9",
   "metadata": {},
   "source": [
    "  "
   ]
  },
  {
   "cell_type": "markdown",
   "id": "6456ae87",
   "metadata": {},
   "source": [
    "# 1- Tipos de retorno"
   ]
  },
  {
   "cell_type": "code",
   "execution_count": 1,
   "id": "b1eb6f19",
   "metadata": {},
   "outputs": [],
   "source": [
    "# importando as bibliotécas\n",
    "import pandas as pd\n",
    "from pandas_datareader import data as web\n",
    "import yfinance as yf\n",
    "import numpy as np\n",
    "import seaborn as sns\n",
    "import matplotlib.pyplot as plt\n",
    "from scipy import stats\n",
    "yf.pdr_override()"
   ]
  },
  {
   "cell_type": "code",
   "execution_count": 2,
   "id": "30f27125",
   "metadata": {},
   "outputs": [
    {
     "name": "stdout",
     "output_type": "stream",
     "text": [
      "[*********************100%***********************]  1 of 1 completed\n"
     ]
    },
    {
     "data": {
      "text/html": [
       "<div>\n",
       "<style scoped>\n",
       "    .dataframe tbody tr th:only-of-type {\n",
       "        vertical-align: middle;\n",
       "    }\n",
       "\n",
       "    .dataframe tbody tr th {\n",
       "        vertical-align: top;\n",
       "    }\n",
       "\n",
       "    .dataframe thead th {\n",
       "        text-align: right;\n",
       "    }\n",
       "</style>\n",
       "<table border=\"1\" class=\"dataframe\">\n",
       "  <thead>\n",
       "    <tr style=\"text-align: right;\">\n",
       "      <th></th>\n",
       "      <th>Open</th>\n",
       "      <th>High</th>\n",
       "      <th>Low</th>\n",
       "      <th>Close</th>\n",
       "      <th>Adj Close</th>\n",
       "      <th>Volume</th>\n",
       "    </tr>\n",
       "    <tr>\n",
       "      <th>Date</th>\n",
       "      <th></th>\n",
       "      <th></th>\n",
       "      <th></th>\n",
       "      <th></th>\n",
       "      <th></th>\n",
       "      <th></th>\n",
       "    </tr>\n",
       "  </thead>\n",
       "  <tbody>\n",
       "    <tr>\n",
       "      <th>2022-03-21</th>\n",
       "      <td>3.02</td>\n",
       "      <td>3.08</td>\n",
       "      <td>2.96</td>\n",
       "      <td>2.99</td>\n",
       "      <td>2.99</td>\n",
       "      <td>14837100</td>\n",
       "    </tr>\n",
       "    <tr>\n",
       "      <th>2022-03-22</th>\n",
       "      <td>3.01</td>\n",
       "      <td>3.14</td>\n",
       "      <td>3.01</td>\n",
       "      <td>3.11</td>\n",
       "      <td>3.11</td>\n",
       "      <td>20354600</td>\n",
       "    </tr>\n",
       "    <tr>\n",
       "      <th>2022-03-23</th>\n",
       "      <td>3.21</td>\n",
       "      <td>3.27</td>\n",
       "      <td>3.09</td>\n",
       "      <td>3.09</td>\n",
       "      <td>3.09</td>\n",
       "      <td>19690000</td>\n",
       "    </tr>\n",
       "    <tr>\n",
       "      <th>2022-03-24</th>\n",
       "      <td>3.10</td>\n",
       "      <td>3.28</td>\n",
       "      <td>3.10</td>\n",
       "      <td>3.24</td>\n",
       "      <td>3.24</td>\n",
       "      <td>25157400</td>\n",
       "    </tr>\n",
       "    <tr>\n",
       "      <th>2022-03-25</th>\n",
       "      <td>3.25</td>\n",
       "      <td>3.49</td>\n",
       "      <td>3.24</td>\n",
       "      <td>3.45</td>\n",
       "      <td>3.45</td>\n",
       "      <td>30593500</td>\n",
       "    </tr>\n",
       "  </tbody>\n",
       "</table>\n",
       "</div>"
      ],
      "text/plain": [
       "            Open  High   Low  Close  Adj Close    Volume\n",
       "Date                                                    \n",
       "2022-03-21  3.02  3.08  2.96   2.99       2.99  14837100\n",
       "2022-03-22  3.01  3.14  3.01   3.11       3.11  20354600\n",
       "2022-03-23  3.21  3.27  3.09   3.09       3.09  19690000\n",
       "2022-03-24  3.10  3.28  3.10   3.24       3.24  25157400\n",
       "2022-03-25  3.25  3.49  3.24   3.45       3.45  30593500"
      ]
     },
     "metadata": {},
     "output_type": "display_data"
    },
    {
     "data": {
      "text/plain": [
       "pandas.core.frame.DataFrame"
      ]
     },
     "execution_count": 2,
     "metadata": {},
     "output_type": "execute_result"
    }
   ],
   "source": [
    "# baixando os dados da ação e verificando o dataframe\n",
    "\n",
    "acao = web.get_data_yahoo('IRBR3.SA', start='2022-03-21', end='2022-03-26')\n",
    "\n",
    "display(acao)\n",
    "\n",
    "type(acao)"
   ]
  },
  {
   "cell_type": "markdown",
   "id": "396158b0",
   "metadata": {},
   "source": [
    "# especificando a coluna que quer do dataframe\n"
   ]
  },
  {
   "cell_type": "code",
   "execution_count": 17,
   "id": "c51db738",
   "metadata": {},
   "outputs": [
    {
     "name": "stdout",
     "output_type": "stream",
     "text": [
      "[*********************100%***********************]  1 of 1 completed\n"
     ]
    },
    {
     "data": {
      "text/html": [
       "<div>\n",
       "<style scoped>\n",
       "    .dataframe tbody tr th:only-of-type {\n",
       "        vertical-align: middle;\n",
       "    }\n",
       "\n",
       "    .dataframe tbody tr th {\n",
       "        vertical-align: top;\n",
       "    }\n",
       "\n",
       "    .dataframe thead th {\n",
       "        text-align: right;\n",
       "    }\n",
       "</style>\n",
       "<table border=\"1\" class=\"dataframe\">\n",
       "  <thead>\n",
       "    <tr style=\"text-align: right;\">\n",
       "      <th></th>\n",
       "      <th>IRBR3.SA</th>\n",
       "    </tr>\n",
       "    <tr>\n",
       "      <th>Date</th>\n",
       "      <th></th>\n",
       "    </tr>\n",
       "  </thead>\n",
       "  <tbody>\n",
       "    <tr>\n",
       "      <th>2022-03-21</th>\n",
       "      <td>2.99</td>\n",
       "    </tr>\n",
       "    <tr>\n",
       "      <th>2022-03-22</th>\n",
       "      <td>3.11</td>\n",
       "    </tr>\n",
       "    <tr>\n",
       "      <th>2022-03-23</th>\n",
       "      <td>3.09</td>\n",
       "    </tr>\n",
       "    <tr>\n",
       "      <th>2022-03-24</th>\n",
       "      <td>3.24</td>\n",
       "    </tr>\n",
       "    <tr>\n",
       "      <th>2022-03-25</th>\n",
       "      <td>3.45</td>\n",
       "    </tr>\n",
       "  </tbody>\n",
       "</table>\n",
       "</div>"
      ],
      "text/plain": [
       "            IRBR3.SA\n",
       "Date                \n",
       "2022-03-21      2.99\n",
       "2022-03-22      3.11\n",
       "2022-03-23      3.09\n",
       "2022-03-24      3.24\n",
       "2022-03-25      3.45"
      ]
     },
     "metadata": {},
     "output_type": "display_data"
    },
    {
     "data": {
      "text/plain": [
       "pandas.core.frame.DataFrame"
      ]
     },
     "execution_count": 17,
     "metadata": {},
     "output_type": "execute_result"
    }
   ],
   "source": [
    "#primeiro caso\n",
    "\n",
    "acao = pd.DataFrame()\n",
    "lista_acao = ['IRBR3.SA']\n",
    "\n",
    "for i in lista_acao:\n",
    "    acao[i] = web.get_data_yahoo(i, start='2022-03-21', end='2022-03-26')['Adj Close']\n",
    "    \n",
    "    \n",
    "display(acao)\n",
    "type(acao)"
   ]
  },
  {
   "cell_type": "markdown",
   "id": "1c6607c0",
   "metadata": {},
   "source": [
    "   "
   ]
  },
  {
   "cell_type": "code",
   "execution_count": 23,
   "id": "a04c1e17",
   "metadata": {},
   "outputs": [
    {
     "name": "stdout",
     "output_type": "stream",
     "text": [
      "[*********************100%***********************]  1 of 1 completed\n"
     ]
    },
    {
     "data": {
      "text/html": [
       "<div>\n",
       "<style scoped>\n",
       "    .dataframe tbody tr th:only-of-type {\n",
       "        vertical-align: middle;\n",
       "    }\n",
       "\n",
       "    .dataframe tbody tr th {\n",
       "        vertical-align: top;\n",
       "    }\n",
       "\n",
       "    .dataframe thead th {\n",
       "        text-align: right;\n",
       "    }\n",
       "</style>\n",
       "<table border=\"1\" class=\"dataframe\">\n",
       "  <thead>\n",
       "    <tr style=\"text-align: right;\">\n",
       "      <th></th>\n",
       "      <th>Adj Close</th>\n",
       "    </tr>\n",
       "    <tr>\n",
       "      <th>Date</th>\n",
       "      <th></th>\n",
       "    </tr>\n",
       "  </thead>\n",
       "  <tbody>\n",
       "    <tr>\n",
       "      <th>2022-03-21</th>\n",
       "      <td>2.99</td>\n",
       "    </tr>\n",
       "    <tr>\n",
       "      <th>2022-03-22</th>\n",
       "      <td>3.11</td>\n",
       "    </tr>\n",
       "    <tr>\n",
       "      <th>2022-03-23</th>\n",
       "      <td>3.09</td>\n",
       "    </tr>\n",
       "    <tr>\n",
       "      <th>2022-03-24</th>\n",
       "      <td>3.24</td>\n",
       "    </tr>\n",
       "    <tr>\n",
       "      <th>2022-03-25</th>\n",
       "      <td>3.45</td>\n",
       "    </tr>\n",
       "  </tbody>\n",
       "</table>\n",
       "</div>"
      ],
      "text/plain": [
       "            Adj Close\n",
       "Date                 \n",
       "2022-03-21       2.99\n",
       "2022-03-22       3.11\n",
       "2022-03-23       3.09\n",
       "2022-03-24       3.24\n",
       "2022-03-25       3.45"
      ]
     },
     "metadata": {},
     "output_type": "display_data"
    },
    {
     "data": {
      "text/plain": [
       "pandas.core.frame.DataFrame"
      ]
     },
     "execution_count": 23,
     "metadata": {},
     "output_type": "execute_result"
    }
   ],
   "source": [
    "#segundo caso \n",
    "acao = web.get_data_yahoo('IRBR3.SA', start='2022-03-21', end='2022-03-26')['Adj Close']\n",
    "\n",
    "acao = pd.DataFrame(acao)\n",
    "\n",
    "display(acao)\n",
    "\n",
    "type(acao)"
   ]
  },
  {
   "cell_type": "code",
   "execution_count": 3,
   "id": "93e11254",
   "metadata": {},
   "outputs": [
    {
     "name": "stdout",
     "output_type": "stream",
     "text": [
      "[*********************100%***********************]  1 of 1 completed\n"
     ]
    },
    {
     "data": {
      "text/plain": [
       "Date\n",
       "2022-03-21    2.99\n",
       "2022-03-22    3.11\n",
       "2022-03-23    3.09\n",
       "2022-03-24    3.24\n",
       "2022-03-25    3.45\n",
       "Name: Adj Close, dtype: float64"
      ]
     },
     "metadata": {},
     "output_type": "display_data"
    },
    {
     "data": {
      "text/plain": [
       "pandas.core.series.Series"
      ]
     },
     "execution_count": 3,
     "metadata": {},
     "output_type": "execute_result"
    }
   ],
   "source": [
    "#caso faça sem passar a serie para um dataframe\n",
    "acao = web.get_data_yahoo('IRBR3.SA', start='2022-03-21', end='2022-03-26')['Adj Close']\n",
    "\n",
    "display(acao)\n",
    "\n",
    "type(acao)"
   ]
  },
  {
   "cell_type": "markdown",
   "id": "0ba9f922",
   "metadata": {},
   "source": [
    "# Calculando os retornos"
   ]
  },
  {
   "cell_type": "markdown",
   "id": "c31eb048",
   "metadata": {},
   "source": [
    "# Retorno Linear"
   ]
  },
  {
   "attachments": {
    "retorno_linear.png": {
     "image/png": "[encoded data removed]"
    }
   },
   "cell_type": "markdown",
   "id": "df1e1532",
   "metadata": {},
   "source": [
    "![retorno_linear.png](attachment:retorno_linear.png)"
   ]
  },
  {
   "cell_type": "code",
   "execution_count": 30,
   "id": "bc74532a",
   "metadata": {},
   "outputs": [
    {
     "name": "stdout",
     "output_type": "stream",
     "text": [
      "[*********************100%***********************]  1 of 1 completed\n"
     ]
    },
    {
     "data": {
      "text/html": [
       "<div>\n",
       "<style scoped>\n",
       "    .dataframe tbody tr th:only-of-type {\n",
       "        vertical-align: middle;\n",
       "    }\n",
       "\n",
       "    .dataframe tbody tr th {\n",
       "        vertical-align: top;\n",
       "    }\n",
       "\n",
       "    .dataframe thead th {\n",
       "        text-align: right;\n",
       "    }\n",
       "</style>\n",
       "<table border=\"1\" class=\"dataframe\">\n",
       "  <thead>\n",
       "    <tr style=\"text-align: right;\">\n",
       "      <th></th>\n",
       "      <th>IRBR3.SA</th>\n",
       "    </tr>\n",
       "    <tr>\n",
       "      <th>Date</th>\n",
       "      <th></th>\n",
       "    </tr>\n",
       "  </thead>\n",
       "  <tbody>\n",
       "    <tr>\n",
       "      <th>2022-03-21</th>\n",
       "      <td>NaN</td>\n",
       "    </tr>\n",
       "    <tr>\n",
       "      <th>2022-03-22</th>\n",
       "      <td>4.013374</td>\n",
       "    </tr>\n",
       "    <tr>\n",
       "      <th>2022-03-23</th>\n",
       "      <td>-0.643086</td>\n",
       "    </tr>\n",
       "    <tr>\n",
       "      <th>2022-03-24</th>\n",
       "      <td>4.854372</td>\n",
       "    </tr>\n",
       "    <tr>\n",
       "      <th>2022-03-25</th>\n",
       "      <td>6.481483</td>\n",
       "    </tr>\n",
       "  </tbody>\n",
       "</table>\n",
       "</div>"
      ],
      "text/plain": [
       "            IRBR3.SA\n",
       "Date                \n",
       "2022-03-21       NaN\n",
       "2022-03-22  4.013374\n",
       "2022-03-23 -0.643086\n",
       "2022-03-24  4.854372\n",
       "2022-03-25  6.481483"
      ]
     },
     "execution_count": 30,
     "metadata": {},
     "output_type": "execute_result"
    }
   ],
   "source": [
    "# calculando o retorno linear\n",
    "\n",
    "# OBS: O .diff() é uma função da biblioteca pandas que faz a diferença \n",
    "#      entre o preço futuro e o preço passado no período especificado\n",
    "\n",
    "\n",
    "#      O .shift() também é uma função do pandas e desloca todo o dataframe \n",
    "#      na quantidade de dias especificado\n",
    "\n",
    "\n",
    "acao = pd.DataFrame()\n",
    "lista_acao = ['IRBR3.SA']\n",
    "\n",
    "for i in lista_acao:\n",
    "    acao[i] = web.get_data_yahoo(i, start='2022-03-21', end='2022-03-26')['Adj Close']\n",
    "    \n",
    "\n",
    "retornos = acao.diff(1)/acao.shift(1) *100\n",
    "retornos"
   ]
  },
  {
   "cell_type": "code",
   "execution_count": null,
   "id": "abc51f04",
   "metadata": {},
   "outputs": [],
   "source": []
  },
  {
   "cell_type": "markdown",
   "id": "4a3c2ca3",
   "metadata": {},
   "source": [
    "# Log Retorno"
   ]
  },
  {
   "attachments": {
    "log_retorno.png": {
     "image/png": "[encoded data removed]"
    }
   },
   "cell_type": "markdown",
   "id": "c6d4c0ba",
   "metadata": {},
   "source": [
    "![log_retorno.png](attachment:log_retorno.png)"
   ]
  },
  {
   "cell_type": "code",
   "execution_count": 35,
   "id": "411b4f74",
   "metadata": {},
   "outputs": [
    {
     "name": "stdout",
     "output_type": "stream",
     "text": [
      "[*********************100%***********************]  1 of 1 completed\n"
     ]
    },
    {
     "data": {
      "text/html": [
       "<div>\n",
       "<style scoped>\n",
       "    .dataframe tbody tr th:only-of-type {\n",
       "        vertical-align: middle;\n",
       "    }\n",
       "\n",
       "    .dataframe tbody tr th {\n",
       "        vertical-align: top;\n",
       "    }\n",
       "\n",
       "    .dataframe thead th {\n",
       "        text-align: right;\n",
       "    }\n",
       "</style>\n",
       "<table border=\"1\" class=\"dataframe\">\n",
       "  <thead>\n",
       "    <tr style=\"text-align: right;\">\n",
       "      <th></th>\n",
       "      <th>IRBR3.SA</th>\n",
       "    </tr>\n",
       "    <tr>\n",
       "      <th>Date</th>\n",
       "      <th></th>\n",
       "    </tr>\n",
       "  </thead>\n",
       "  <tbody>\n",
       "    <tr>\n",
       "      <th>2022-03-21</th>\n",
       "      <td>NaN</td>\n",
       "    </tr>\n",
       "    <tr>\n",
       "      <th>2022-03-22</th>\n",
       "      <td>3.934930</td>\n",
       "    </tr>\n",
       "    <tr>\n",
       "      <th>2022-03-23</th>\n",
       "      <td>-0.645163</td>\n",
       "    </tr>\n",
       "    <tr>\n",
       "      <th>2022-03-24</th>\n",
       "      <td>4.740227</td>\n",
       "    </tr>\n",
       "    <tr>\n",
       "      <th>2022-03-25</th>\n",
       "      <td>6.280091</td>\n",
       "    </tr>\n",
       "  </tbody>\n",
       "</table>\n",
       "</div>"
      ],
      "text/plain": [
       "            IRBR3.SA\n",
       "Date                \n",
       "2022-03-21       NaN\n",
       "2022-03-22  3.934930\n",
       "2022-03-23 -0.645163\n",
       "2022-03-24  4.740227\n",
       "2022-03-25  6.280091"
      ]
     },
     "execution_count": 35,
     "metadata": {},
     "output_type": "execute_result"
    }
   ],
   "source": [
    "# OBS: no calculo do retorno LOG é utilizado o retorno com o LN (log natural)\n",
    "#  na biblioteca numpy o np.log() é o log natural do ativo especificado\n",
    "\n",
    "acao = pd.DataFrame()\n",
    "lista_acao = ['IRBR3.SA']\n",
    "\n",
    "for i in lista_acao:\n",
    "    acao[i] = web.get_data_yahoo(i, start='2022-03-21', end='2022-03-26')['Adj Close']\n",
    "    \n",
    "\n",
    "retornos = np.log(acao/acao.shift(1))\n",
    "retornos*100"
   ]
  },
  {
   "cell_type": "code",
   "execution_count": null,
   "id": "e30a5ced",
   "metadata": {},
   "outputs": [],
   "source": []
  },
  {
   "cell_type": "markdown",
   "id": "ea3ded2f",
   "metadata": {},
   "source": [
    "# Retorno linear acumulado"
   ]
  },
  {
   "cell_type": "markdown",
   "id": "f3b6fbad",
   "metadata": {},
   "source": [
    "   "
   ]
  },
  {
   "cell_type": "code",
   "execution_count": 56,
   "id": "eb424f9c",
   "metadata": {},
   "outputs": [
    {
     "name": "stdout",
     "output_type": "stream",
     "text": [
      "[*********************100%***********************]  1 of 1 completed\n"
     ]
    },
    {
     "data": {
      "text/plain": [
       "IRBR3.SA    15.384617\n",
       "dtype: float64"
      ]
     },
     "execution_count": 56,
     "metadata": {},
     "output_type": "execute_result"
    }
   ],
   "source": [
    "# calculando o retorno linear acumulado\n",
    "\n",
    "# o .iloc[] localiza um elemento na lista de acordo com o índice especificado, nesse caso\n",
    "# o especificado foi -1 e 0, -1 é o último número das linhas do data frame e o 0 é o primeiro\n",
    "# número da lista\n",
    "\n",
    "acao = pd.DataFrame()\n",
    "lista_acao = ['IRBR3.SA']\n",
    "\n",
    "for i in lista_acao:\n",
    "    acao[i] = web.get_data_yahoo(i, start='2022-03-21', end='2022-03-26')['Adj Close']\n",
    "    \n",
    "\n",
    "retorno = acao.iloc[-1]/acao.iloc[0] - 1\n",
    "retorno*100"
   ]
  },
  {
   "cell_type": "code",
   "execution_count": null,
   "id": "305aad1a",
   "metadata": {},
   "outputs": [],
   "source": []
  },
  {
   "cell_type": "markdown",
   "id": "93244e25",
   "metadata": {},
   "source": [
    "# Retorno de um portfólio"
   ]
  },
  {
   "attachments": {
    "retorno_port.jpeg": {
     "image/jpeg": "[encoded data removed]"
    }
   },
   "cell_type": "markdown",
   "id": "e23f8cdf",
   "metadata": {},
   "source": [
    "![retorno_port.jpeg](attachment:retorno_port.jpeg)"
   ]
  },
  {
   "cell_type": "code",
   "execution_count": 8,
   "id": "fe1498a0",
   "metadata": {},
   "outputs": [
    {
     "name": "stdout",
     "output_type": "stream",
     "text": [
      "[*********************100%***********************]  1 of 1 completed\n",
      "[*********************100%***********************]  1 of 1 completed\n",
      "8.496505842660175\n"
     ]
    }
   ],
   "source": [
    "#pegando as ações que desaja calcular \n",
    "\n",
    "# o np.dot()  realiza o produto escalar entre dois vetores ou matrizez, faz parte da biblioteca numpy\n",
    "\n",
    "\n",
    "acao = pd.DataFrame()\n",
    "lista_acao = ['IRBR3.SA', 'MGLU3.SA']\n",
    "\n",
    "for i in lista_acao:\n",
    "    acao[i] = web.get_data_yahoo(i, start='2022-03-21', end='2022-03-26')['Adj Close']\n",
    "    \n",
    "\n",
    "    \n",
    "pesos = [70/100, -10/100]\n",
    "\n",
    "retorno_b = acao['IRBR3.SA'].iloc[-1]/acao['IRBR3.SA'].iloc[0] - 1\n",
    "retorno_a = acao['MGLU3.SA'].iloc[-1]/acao['MGLU3.SA'].iloc[0] - 1\n",
    "\n",
    "\n",
    "retornos = [retorno_a, retorno_b]\n",
    "\n",
    "\n",
    "ret = np.dot(pesos, retornos)\n",
    "\n",
    "print(ret*100)"
   ]
  },
  {
   "cell_type": "markdown",
   "id": "8cf90f9b",
   "metadata": {},
   "source": [
    "# CORRELAÇÃO DE ATIVOS"
   ]
  },
  {
   "cell_type": "code",
   "execution_count": 3,
   "id": "917a1491",
   "metadata": {},
   "outputs": [
    {
     "name": "stdout",
     "output_type": "stream",
     "text": [
      "[*********************100%***********************]  1 of 1 completed\n",
      "[*********************100%***********************]  1 of 1 completed\n",
      "[*********************100%***********************]  1 of 1 completed\n",
      "[*********************100%***********************]  1 of 1 completed\n",
      "[*********************100%***********************]  1 of 1 completed\n",
      "[*********************100%***********************]  1 of 1 completed\n",
      "[*********************100%***********************]  1 of 1 completed\n"
     ]
    },
    {
     "data": {
      "image/png": "[encoded data removed]",
      "text/plain": [
       "<Figure size 864x576 with 2 Axes>"
      ]
     },
     "metadata": {
      "needs_background": "light"
     },
     "output_type": "display_data"
    }
   ],
   "source": [
    "# achando a matriz de correlação entre os retornos\n",
    "\n",
    "\n",
    "acao = pd.DataFrame()\n",
    "lista_acao = ['IRBR3.SA','VALE3.SA','SUZB3.SA','SULA3.SA','BBSE3.SA','PETR4.SA','GGBR4.SA']\n",
    "\n",
    "for i in lista_acao:\n",
    "    acao[i] = web.get_data_yahoo(i, start='2017-03-21', end='2022-01-01')['Adj Close']\n",
    "    \n",
    "    \n",
    "retorno = np.log(acao/acao.shift(1))\n",
    "    \n",
    "correlacao = retorno.corr()\n",
    "\n",
    "mask = np.triu(correlacao)\n",
    "plt.figure(figsize=(12,8))\n",
    "plot = sns.heatmap(correlacao, annot = True, fmt=\".1f\", linewidths=.9, mask= mask)\n",
    "\n",
    "    \n",
    "\n"
   ]
  },
  {
   "cell_type": "markdown",
   "id": "c27a8b53",
   "metadata": {},
   "source": [
    "### RISCO DO PORTFÓLIO"
   ]
  },
  {
   "cell_type": "code",
   "execution_count": 2,
   "id": "d42aae54",
   "metadata": {},
   "outputs": [
    {
     "name": "stdout",
     "output_type": "stream",
     "text": [
      "[*********************100%***********************]  1 of 1 completed\n",
      "[*********************100%***********************]  1 of 1 completed\n",
      "[*********************100%***********************]  1 of 1 completed\n",
      "[*********************100%***********************]  1 of 1 completed\n",
      "[*********************100%***********************]  1 of 1 completed\n",
      "[*********************100%***********************]  1 of 1 completed\n",
      "[*********************100%***********************]  1 of 1 completed\n",
      "\n",
      "\n",
      "O risco anualizado do portfólio é de: 31.0% \n"
     ]
    }
   ],
   "source": [
    "# achando o risco de um portfólio \n",
    "\n",
    "acao = pd.DataFrame()\n",
    "lista_acao = ['IRBR3.SA','VALE3.SA','SUZB3.SA','SULA3.SA','BBSE3.SA','PETR4.SA','GGBR4.SA']\n",
    "\n",
    "for ticker in lista_acao:\n",
    "    acao[ticker] = web.get_data_yahoo(ticker, start='2017-03-21', end='2022-01-01')['Adj Close']\n",
    "    \n",
    "    \n",
    "pesos = np.array([0.10,0.20,0.05,0.25,0.10,0.15,0.15])\n",
    "cov = acao.pct_change().dropna().cov()   #pct_change >>> acao.diff()/acao.shift(1)\n",
    "risk = np.sqrt(np.dot(pesos.T,np.dot(cov*252,pesos)))\n",
    "risk = np.around(risk,3)\n",
    "print(\"\")\n",
    "print(\"\")\n",
    "print(f\"O risco anualizado do portfólio é de: {risk*100}% \")"
   ]
  },
  {
   "cell_type": "markdown",
   "id": "0dd29879",
   "metadata": {},
   "source": [
    "### BETA E R² DE UM ATIVO"
   ]
  },
  {
   "cell_type": "code",
   "execution_count": 7,
   "id": "b1b42a38",
   "metadata": {},
   "outputs": [
    {
     "name": "stdout",
     "output_type": "stream",
     "text": [
      "[*********************100%***********************]  1 of 1 completed\n",
      "[*********************100%***********************]  1 of 1 completed\n",
      "\n",
      "O beta do ativo é: 0.94\n",
      "\n",
      "O r² do ativo é: 0.2\n"
     ]
    }
   ],
   "source": [
    "# achando o beta e o r² do ativo\n",
    "\n",
    "acao_close = pd.DataFrame()\n",
    "\n",
    "acao_ticker = ['IRBR3.SA','^BVSP']\n",
    "start = '2017-01-01'\n",
    "end = '2022-01-01'\n",
    "for i in acao_ticker:\n",
    "    acao_close[i] = web.get_data_yahoo(i, start=start, end= end)['Adj Close']\n",
    "    \n",
    "ret_irbr = acao_close['IRBR3.SA'].pct_change().dropna()\n",
    "ret_bvsp = acao_close['^BVSP'].pct_change().dropna()\n",
    "\n",
    "beta,alfa,r_value, p_value, std = stats.linregress(ret_bvsp,ret_irbr)\n",
    "\n",
    "print(\"\")\n",
    "print(f\"O beta do ativo é: {np.around(beta,2)}\")\n",
    "print(\"\")\n",
    "print(f\"O r² do ativo é: {np.around(r_value**2,2)}\")\n",
    "\n"
   ]
  },
  {
   "cell_type": "markdown",
   "id": "6c95bf55",
   "metadata": {},
   "source": [
    "### Índice Sharpe"
   ]
  },
  {
   "cell_type": "code",
   "execution_count": 59,
   "id": "63099a4e",
   "metadata": {},
   "outputs": [
    {
     "name": "stdout",
     "output_type": "stream",
     "text": [
      "[*********************100%***********************]  1 of 1 completed\n",
      "[*********************100%***********************]  1 of 1 completed\n",
      "[*********************100%***********************]  1 of 1 completed\n",
      "[*********************100%***********************]  1 of 1 completed\n",
      "[*********************100%***********************]  1 of 1 completed\n",
      "[*********************100%***********************]  1 of 1 completed\n",
      "[*********************100%***********************]  1 of 1 completed\n",
      "\n",
      "Sharpe: 0.54\n",
      "\n",
      "Retorno: 27.6%\n",
      "\n",
      "Risco: 31.0%\n",
      "\n",
      "Taxa livre de risco: 11.0%\n"
     ]
    }
   ],
   "source": [
    "#calculando o índice sharpe do portfólio\n",
    "\n",
    "acao = pd.DataFrame()\n",
    "lista_acao = ['IRBR3.SA','VALE3.SA','SUZB3.SA','SULA3.SA','BBSE3.SA','PETR4.SA','GGBR4.SA']\n",
    "\n",
    "for ticker in lista_acao:\n",
    "    acao[ticker] = web.get_data_yahoo(ticker, start='2017-03-21', end='2022-01-01')['Adj Close']\n",
    "    \n",
    "#RISCO\n",
    "pesos = np.array([0.10,0.20,0.05,0.25,0.10,0.15,0.15])\n",
    "cov = acao.pct_change().dropna().cov()   #pct_change >>> acao.diff()/acao.shift(1)\n",
    "risk = np.sqrt(np.dot(pesos.T,np.dot(cov*252,pesos)))\n",
    "risk = np.around(risk,3)\n",
    "\n",
    "#RETORNO\n",
    "ret = acao.pct_change().dropna()\n",
    "ret_anual = np.dot(pesos.T,ret.mean()*252)\n",
    "\n",
    "\n",
    "\n",
    "#tiirando o sharpe\n",
    "\n",
    "Rp = ret_anual\n",
    "Rf = 0.11 \n",
    "std = risk\n",
    "IS = (Rp - Rf)/std\n",
    "\n",
    "\n",
    "print(\"\")\n",
    "print(f'Sharpe: {round(IS,2)}')\n",
    "print(\"\")\n",
    "print(f'Retorno: {round(ret_anual,3)*100}%')\n",
    "print(\"\")\n",
    "print(f'Risco: {risk*100}%')\n",
    "print(\"\")\n",
    "print(f\"Taxa livre de risco: {Rf*100}%\")"
   ]
  },
  {
   "cell_type": "markdown",
   "id": "209276a0",
   "metadata": {},
   "source": [
    "### Máximo Drawdown\n"
   ]
  },
  {
   "cell_type": "code",
   "execution_count": 6,
   "id": "5c6b59e7",
   "metadata": {},
   "outputs": [
    {
     "data": {
      "image/png": "[encoded data removed]",
      "text/plain": [
       "<Figure size 1080x360 with 1 Axes>"
      ]
     },
     "metadata": {},
     "output_type": "display_data"
    },
    {
     "name": "stdout",
     "output_type": "stream",
     "text": [
      "\n",
      "MDD: -12.87%\n",
      "\n"
     ]
    }
   ],
   "source": [
    "# máximo drawdown de um fundo fictício e platando um gráfico de MDD\n",
    "\n",
    "data = ['2022-01-28','2022-01-31','2022-02-01' ,'2022-02-02' ,'2022-02-03' ,'2022-02-04' ,'2022-02-07','2022-02-08','2022-02-09' ,'2022-02-10' ,'2022-02-11','2022-02-14' ,'2022-02-15' ,'2022-02-16' ,'2022-02-17' ,'2022-02-18' ,'2022-02-21' ,'2022-02-22','2022-02-23' ,'2022-02-24' ,'2022-02-25' ,'2022-03-02','2022-03-03' ,'2022-03-04' ,'2022-03-07' ,'2022-03-08' ,'2022-03-09' ,'2022-03-10' ,'2022-03-11' ,'2022-03-14' ,'2022-03-15' ,'2022-03-16' ,'2022-03-17' ,'2022-03-18' ,'2022-03-21' ,'2022-03-22' ,'2022-03-23' ,'2022-03-24','2022-03-25', '2022-03-28' ,'2022-03-29' ,'2022-03-30']\n",
    "\n",
    "cota = [100000000,98964186.5748459,99357346.8573531,98991808.2311405,98912325.7408773,99314227.5128418,100279877.59814,99648567.4506509,99584201.2212929,98795584.6701776,93791173.1226747,93282643.6236285,92801252.5932106,92692796.4359494,91168538.6246551,91228616.9355914,90520361.4374034,90366621.1242747,89542939.2558828,88842004.2422855,91368651.5786706,98373378.1937478,98522973.3924275,99009593.2700239,98553521.8858813,98116135.4032504,99127135.899908,99253927.3994497,96916743.451318,95859300.2179089,95598411.754672,96244178.119005,98105864.1553051,98435439.6136114,98893706.4722991,98927701.4579474,98949670.8189332,98381091.2831234,97345712.9438565,96983705.7035926,96454868.7365375,96086597.7442784]\n",
    "\n",
    "df = pd.DataFrame({'Data':data, 'cota':cota}).set_index('Data')\n",
    "\n",
    "mdd_plot = df/df.max() -1\n",
    "\n",
    "mdd = round((df['cota'].max()/df['cota'].min() - 1)*100,2)\n",
    "\n",
    "\n",
    "sns.set_style('whitegrid')\n",
    "plt.figure(figsize=(15,5))\n",
    "plt.plot(mdd_plot,label='MDD')\n",
    "plt.legend()\n",
    "plt.title(\"Máximo Drawdown\")\n",
    "plt.xlabel('Período')\n",
    "plt.ylabel('Perda')\n",
    "plt.xticks(rotation=75)\n",
    "plt.show()\n",
    "\n",
    "print(\"\")\n",
    "print(f\"MDD: -{mdd}%\")\n",
    "print(\"\")\n",
    "\n",
    "#essa parte do código precisa melhorar, pois com um conjunto maior de dados fica ruim de verificar qual foi\n",
    "#o máximo drawdown do período, pois sempre vai pegar o máximo e dividir pelo mínimo. Dependendo da janela\n",
    "#de tempo que precisar, precisará utilizar outros métodos como o .rolling() do pandas. "
   ]
  }
 ],
 "metadata": {
  "kernelspec": {
   "display_name": "Python 3 (ipykernel)",
   "language": "python",
   "name": "python3"
  },
  "language_info": {
   "codemirror_mode": {
    "name": "ipython",
    "version": 3
   },
   "file_extension": ".py",
   "mimetype": "text/x-python",
   "name": "python",
   "nbconvert_exporter": "python",
   "pygments_lexer": "ipython3",
   "version": "3.8.10"
  }
 },
 "nbformat": 4,
 "nbformat_minor": 5
}
